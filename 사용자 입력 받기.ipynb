{
 "cells": [
  {
   "cell_type": "code",
   "execution_count": 2,
   "metadata": {},
   "outputs": [
    {
     "name": "stdout",
     "output_type": "stream",
     "text": [
      "codeit\n"
     ]
    }
   ],
   "source": [
    "# 01. input\n",
    "name = input(\"이름을 입력하세요 : \") #input 함수가 받는 사용자 입력은 항상 문자열이다.\n",
    "print(name)7\n"
   ]
  },
  {
   "cell_type": "code",
   "execution_count": 4,
   "metadata": {},
   "outputs": [
    {
     "name": "stdout",
     "output_type": "stream",
     "text": [
      "12\n"
     ]
    }
   ],
   "source": [
    "x = int(input(\"숫자를 입력하세요 :\"))  #input 함수가 받는 사용자 입력은 항상 문자열이다. -->> 정수형으로 변환해야됨\n",
    "print(x + 5)"
   ]
  },
  {
   "cell_type": "code",
   "execution_count": 18,
   "metadata": {},
   "outputs": [
    {
     "name": "stdout",
     "output_type": "stream",
     "text": [
      "Down\n",
      "Up\n",
      "Down\n",
      "축하합니다 4번 만에 숫자를 맞히셨습니다.\n"
     ]
    }
   ],
   "source": [
    "import random as rd\n",
    "\n",
    "ANSWER = rd.randint(1, 20)\n",
    "TRIES_NUM = 4\n",
    "tries = 0\n",
    "guess = 0\n",
    "\n",
    "while guess != ANSWER and TRIES_NUM > tries :\n",
    "    guess = int(input(\"기회가 {}번 남았습니다. 1-20 사이의 숫자를 맞혀보세요 : \".format(TRIES_NUM - tries)))\n",
    "    tries += 1\n",
    "\n",
    "    if ANSWER > guess :\n",
    "        print(\"Up\")\n",
    "    elif ANSWER < guess :\n",
    "        print(\"Down\")\n",
    "\n",
    "if ANSWER == guess :\n",
    "    print(\"축하합니다 {}번 만에 숫자를 맞히셨습니다.\".format(tries))\n",
    "elif ANSWER != guess :\n",
    "    print(\"아쉽습니다. 정밥은 {}입니다.\".format(ANSWER))\n",
    "\n"
   ]
  }
 ],
 "metadata": {
  "kernelspec": {
   "display_name": "Python 3",
   "language": "python",
   "name": "python3"
  },
  "language_info": {
   "codemirror_mode": {
    "name": "ipython",
    "version": 3
   },
   "file_extension": ".py",
   "mimetype": "text/x-python",
   "name": "python",
   "nbconvert_exporter": "python",
   "pygments_lexer": "ipython3",
   "version": "3.11.3"
  },
  "orig_nbformat": 4
 },
 "nbformat": 4,
 "nbformat_minor": 2
}
