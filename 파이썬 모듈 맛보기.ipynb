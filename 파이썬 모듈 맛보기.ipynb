{
 "cells": [
  {
   "cell_type": "code",
   "execution_count": 1,
   "metadata": {},
   "outputs": [
    {
     "name": "stdout",
     "output_type": "stream",
     "text": [
      "2.0\n",
      "홍길동\n",
      "c:\\Users\\홍길동\\OneDrive - 한양대학교\\코드잇\\파이썬 응용하기\\1. 파이썬 모듈 맛보기\n"
     ]
    }
   ],
   "source": [
    "# 스탠다드 라이브러리\n",
    "import math\n",
    "print(math.log10(100))\n",
    "\n",
    "import random\n",
    "random.random()  #0.0과 1.0 사이의 겨로가\n",
    "\n",
    "import os\n",
    "print(os.getlogin())\n",
    "print(os.getcwd()) "
   ]
  },
  {
   "cell_type": "code",
   "execution_count": 14,
   "metadata": {},
   "outputs": [
    {
     "name": "stdout",
     "output_type": "stream",
     "text": [
      "19\n",
      "0.016402662375684995\n"
     ]
    }
   ],
   "source": [
    "# random 모듈\n",
    "import random\n",
    "print(random.randint(1, 20))   # 두 수 사이의 어떤 랜덤한 정수를 리턴하는 함수\n",
    "\n",
    "print(random.uniform(0, 1))     #두 수 사이의 램덤한 소수를 리턴하는 함수"
   ]
  },
  {
   "cell_type": "code",
   "execution_count": 20,
   "metadata": {},
   "outputs": [
    {
     "name": "stdout",
     "output_type": "stream",
     "text": [
      "2020-03-14 00:00:00\n",
      "<class 'datetime.datetime'>\n",
      "2020-03-14 13:06:15\n"
     ]
    }
   ],
   "source": [
    "# datetime 모듈\n",
    "import datetime\n",
    "\n",
    "pi_day = datetime.datetime(2020, 3, 14)\n",
    "print(pi_day)\n",
    "print(type(pi_day))\n",
    "pi_day_2 = datetime.datetime(2020, 3, 14, 13, 6, 15)\n",
    "print(pi_day_2)"
   ]
  },
  {
   "cell_type": "code",
   "execution_count": 26,
   "metadata": {},
   "outputs": [
    {
     "name": "stdout",
     "output_type": "stream",
     "text": [
      "2023-06-27 14:45:41.025500\n",
      "1200 days, 1:39:26.025571\n",
      "2023-06-27 14:45:41.025571\n",
      "2023\n",
      "6\n",
      "27\n",
      "14\n",
      "45\n",
      "41\n",
      "25571\n"
     ]
    }
   ],
   "source": [
    "#오늘 날짜\n",
    "#코드를 실행한 '지금 이 순간'의 날짜와 시간\n",
    "\n",
    "today = datetime.datetime.now()\n",
    "print(today)\n",
    "\n",
    "#timedelta 타입\n",
    "#두 datatime 값 사이의 기간을 알고 싶으면, 숫자뺄셈을 하듯이 그냥 빼면 됨\n",
    "today = datetime.datetime.now()\n",
    "pi_day_3 = datetime.datetime(2020, 3, 14, 13, 6, 15)\n",
    "print(today - pi_day_3)\n",
    "\n",
    "# datime 해부하기\n",
    "print(today)\n",
    "print(today.year)  # 연도\n",
    "print(today.month)  # 월\n",
    "print(today.day)  # 일\n",
    "print(today.hour)  # 시\n",
    "print(today.minute)  # 분\n",
    "print(today.second)  # 초\n",
    "print(today.microsecond)  # 마이크로초"
   ]
  }
 ],
 "metadata": {
  "kernelspec": {
   "display_name": "Python 3",
   "language": "python",
   "name": "python3"
  },
  "language_info": {
   "codemirror_mode": {
    "name": "ipython",
    "version": 3
   },
   "file_extension": ".py",
   "mimetype": "text/x-python",
   "name": "python",
   "nbconvert_exporter": "python",
   "pygments_lexer": "ipython3",
   "version": "3.11.4"
  },
  "orig_nbformat": 4
 },
 "nbformat": 4,
 "nbformat_minor": 2
}
