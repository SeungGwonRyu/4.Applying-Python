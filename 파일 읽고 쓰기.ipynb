{
 "cells": [
  {
   "cell_type": "code",
   "execution_count": null,
   "metadata": {},
   "outputs": [],
   "source": [
    "#파일 읽기\n",
    "with open('/Users/Ryu Seung Gwon/ 코드잇/파이썬 응용하기/3. 파일 읽고 쓰기/chicken.txt', 'r') as f:\n",
    "    for line in f :\n",
    "        print(line)"
   ]
  },
  {
   "cell_type": "code",
   "execution_count": null,
   "metadata": {},
   "outputs": [],
   "source": [
    "print(\"Hello\\n\")  #한줄 띄기\n",
    "print(\"Hello\")"
   ]
  },
  {
   "cell_type": "code",
   "execution_count": null,
   "metadata": {},
   "outputs": [],
   "source": [
    "#strip : 화이트 스페이스 제거\n",
    "print(\"      abc    def       \".strip())"
   ]
  },
  {
   "cell_type": "code",
   "execution_count": null,
   "metadata": {},
   "outputs": [],
   "source": [
    "#파일 읽기\n",
    "with open('/Users/Ryu Seung Gwon/ 코드잇/파이썬 응용하기/3. 파일 읽고 쓰기/chicken.txt', 'r') as f:\n",
    "    for line in f :\n",
    "        print(line.strip())   # 빈줄 모두 없애기 .strip()"
   ]
  },
  {
   "cell_type": "code",
   "execution_count": 3,
   "metadata": {},
   "outputs": [
    {
     "name": "stdout",
     "output_type": "stream",
     "text": [
      "['1', '2', '3', '4', '5', '6']\n"
     ]
    }
   ],
   "source": [
    "# split\n",
    "my_string = \"1. 2. 3. 4. 5. 6\"\n",
    "print(my_string.split(\". \"))  # .  을 기준으로 나뉘는 것"
   ]
  },
  {
   "cell_type": "code",
   "execution_count": 6,
   "metadata": {},
   "outputs": [
    {
     "name": "stdout",
     "output_type": "stream",
     "text": [
      "Yuna Kim\n"
     ]
    }
   ],
   "source": [
    "full_name = \"Kim, Yuna\"\n",
    "name_data = full_name.split(\", \")\n",
    "last_name = name_data[0]\n",
    "first_name = name_data[1]\n",
    "print(first_name, last_name)"
   ]
  },
  {
   "cell_type": "code",
   "execution_count": 11,
   "metadata": {},
   "outputs": [
    {
     "name": "stdout",
     "output_type": "stream",
     "text": [
      "23\n"
     ]
    }
   ],
   "source": [
    "numbers = \"      \\n\\n     2    \\t   3   \\n  5 7 11   \\n\\n\".split()\n",
    "print(numbers[0] + numbers[1])  #문자열로 인식 더하기하려면 int로 변환"
   ]
  },
  {
   "cell_type": "code",
   "execution_count": 15,
   "metadata": {},
   "outputs": [
    {
     "name": "stdout",
     "output_type": "stream",
     "text": [
      "<_io.TextIOWrapper name='new_file.txt' mode='w' encoding='cp949'>\n"
     ]
    }
   ],
   "source": [
    "#05. 파일 쓰기\n",
    "with open('new_file.txt', 'w') as f :  # 'w' 대신 'a'를 쓰면 기존파일에 추가\n",
    "    f.write(\"Hello world!\\n\")\n",
    "    f.write(\"my name is ryu\\n\")\n",
    "\n",
    "print(f)"
   ]
  },
  {
   "cell_type": "code",
   "execution_count": 21,
   "metadata": {},
   "outputs": [],
   "source": [
    "# 06. 단어장 만들기 실습\n",
    "with open('vocabulary.txt', 'w') as f :\n",
    "    while True : \n",
    "        english_word = input(\"영어 단어를 입력하세요 : \")\n",
    "        if english_word == 'q' :\n",
    "            break\n",
    "        korean_word = input(\"한국어 뜻을 입력하세요 : \")\n",
    "        if korean_word == 'q' :\n",
    "            break\n",
    "        f.write('{} : {}\\n'.format(english_word, korean_word))\n",
    "\n"
   ]
  },
  {
   "cell_type": "code",
   "execution_count": 15,
   "metadata": {},
   "outputs": [
    {
     "name": "stdout",
     "output_type": "stream",
     "text": [
      "맞았습니다!\n",
      "맞았습니다!\n",
      "아쉽습니다. 정답은 church입니다.\n",
      "아쉽습니다. 정답은 temple입니다.\n",
      "아쉽습니다. 정답은 wallet입니다.\n",
      "맞았습니다!\n",
      "맞았습니다!\n",
      "아쉽습니다. 정답은 bicycle입니다.\n"
     ]
    }
   ],
   "source": [
    "# 07. 단어 퀴즈 실습\n",
    "with open('vocabulary.txt', 'r') as f :\n",
    "    for line in f : \n",
    "        data = line.strip().split(\" : \")\n",
    "        english_word, korean_word = data[0], data[1]\n",
    "        guess = input(\"{} :\".format(korean_word))\n",
    "        if guess == english_word : \n",
    "            print(\"맞았습니다!\")\n",
    "        elif guess != english_word :\n",
    "            print(\"아쉽습니다. 정답은 {}입니다.\".format(english_word))\n",
    "\n",
    "        \n",
    "        \n",
    "\n"
   ]
  },
  {
   "cell_type": "code",
   "execution_count": 26,
   "metadata": {},
   "outputs": [
    {
     "name": "stdout",
     "output_type": "stream",
     "text": [
      "['cat ', 'apple ', 'church ', 'temple ', 'wallet ', 'backpack ', 'soap ', 'bicycle ']\n"
     ]
    }
   ],
   "source": [
    "# 08. 고급 단어장\n",
    "import random\n",
    "\n",
    "vocab = {}\n",
    "\n",
    "with open('vocabulary.txt', 'r') as f : \n",
    "    for line in f :\n",
    "        data = line.strip().split(\": \")\n",
    "        english_word, korean_word = data[0], data[1]\n",
    "        vocab[english_word] = korean_word #영어 단어를 키(keys)로 한국어를 값(value)으로\n",
    "        keys = list(vocab.keys())  #딕셔너리의 키들을 리스트로 반환\n",
    "\n",
    "        index = random.randint(0, len(keys) - 1)\n",
    "        english_word = keys[index]\n",
    "        \n",
    "        guess = input(\"{} :\".format(korean_word))\n",
    "        if guess == english_word : \n",
    "            print(\"맞았습니다!\")\n",
    "        elif guess != english_word :\n",
    "            print(\"아쉽습니다. 정답은 {}입니다.\".format(english_word))"
   ]
  }
 ],
 "metadata": {
  "kernelspec": {
   "display_name": "Python 3",
   "language": "python",
   "name": "python3"
  },
  "language_info": {
   "codemirror_mode": {
    "name": "ipython",
    "version": 3
   },
   "file_extension": ".py",
   "mimetype": "text/x-python",
   "name": "python",
   "nbconvert_exporter": "python",
   "pygments_lexer": "ipython3",
   "version": "3.11.4"
  },
  "orig_nbformat": 4
 },
 "nbformat": 4,
 "nbformat_minor": 2
}
